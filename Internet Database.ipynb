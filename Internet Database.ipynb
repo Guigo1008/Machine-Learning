{
 "cells": [
  {
   "cell_type": "markdown",
   "id": "cde9df5c",
   "metadata": {},
   "source": [
    "# Leitura e Manipulação dos Dados da Internet"
   ]
  },
  {
   "cell_type": "code",
   "execution_count": 1,
   "id": "61d6f3c1",
   "metadata": {},
   "outputs": [],
   "source": [
    "import pandas as pd\n",
    "from sklearn.svm import LinearSVC\n",
    "from sklearn.metrics import accuracy_score\n",
    "from sklearn.model_selection import train_test_split"
   ]
  },
  {
   "cell_type": "code",
   "execution_count": 2,
   "id": "4d65d3c2",
   "metadata": {},
   "outputs": [],
   "source": [
    "url = 'https://gist.githubusercontent.com/guilhermesilveira/2d2efa37d66b6c84a722ea627a897ced/raw/10968b997d885cbded1c92938c7a9912ba41c615/tracking.csv'\n",
    "dados = pd.read_csv(url)"
   ]
  },
  {
   "cell_type": "code",
   "execution_count": 3,
   "id": "174d2286",
   "metadata": {},
   "outputs": [
    {
     "data": {
      "text/html": [
       "<div>\n",
       "<style scoped>\n",
       "    .dataframe tbody tr th:only-of-type {\n",
       "        vertical-align: middle;\n",
       "    }\n",
       "\n",
       "    .dataframe tbody tr th {\n",
       "        vertical-align: top;\n",
       "    }\n",
       "\n",
       "    .dataframe thead th {\n",
       "        text-align: right;\n",
       "    }\n",
       "</style>\n",
       "<table border=\"1\" class=\"dataframe\">\n",
       "  <thead>\n",
       "    <tr style=\"text-align: right;\">\n",
       "      <th></th>\n",
       "      <th>home</th>\n",
       "      <th>how_it_works</th>\n",
       "      <th>contact</th>\n",
       "      <th>bought</th>\n",
       "    </tr>\n",
       "  </thead>\n",
       "  <tbody>\n",
       "    <tr>\n",
       "      <th>0</th>\n",
       "      <td>1</td>\n",
       "      <td>1</td>\n",
       "      <td>0</td>\n",
       "      <td>0</td>\n",
       "    </tr>\n",
       "    <tr>\n",
       "      <th>1</th>\n",
       "      <td>1</td>\n",
       "      <td>1</td>\n",
       "      <td>0</td>\n",
       "      <td>0</td>\n",
       "    </tr>\n",
       "    <tr>\n",
       "      <th>2</th>\n",
       "      <td>1</td>\n",
       "      <td>1</td>\n",
       "      <td>0</td>\n",
       "      <td>0</td>\n",
       "    </tr>\n",
       "    <tr>\n",
       "      <th>3</th>\n",
       "      <td>1</td>\n",
       "      <td>1</td>\n",
       "      <td>0</td>\n",
       "      <td>0</td>\n",
       "    </tr>\n",
       "    <tr>\n",
       "      <th>4</th>\n",
       "      <td>1</td>\n",
       "      <td>1</td>\n",
       "      <td>0</td>\n",
       "      <td>0</td>\n",
       "    </tr>\n",
       "  </tbody>\n",
       "</table>\n",
       "</div>"
      ],
      "text/plain": [
       "   home  how_it_works  contact  bought\n",
       "0     1             1        0       0\n",
       "1     1             1        0       0\n",
       "2     1             1        0       0\n",
       "3     1             1        0       0\n",
       "4     1             1        0       0"
      ]
     },
     "execution_count": 3,
     "metadata": {},
     "output_type": "execute_result"
    }
   ],
   "source": [
    "dados.head()"
   ]
  },
  {
   "cell_type": "code",
   "execution_count": 4,
   "id": "61b8d3dc",
   "metadata": {},
   "outputs": [],
   "source": [
    "dados.columns = ['principal', 'como_funciona', 'contato', 'comprou']"
   ]
  },
  {
   "cell_type": "code",
   "execution_count": 5,
   "id": "9f88e833",
   "metadata": {},
   "outputs": [],
   "source": [
    "x = dados[['principal', 'como_funciona', 'contato']]\n",
    "y = dados['comprou']"
   ]
  },
  {
   "cell_type": "code",
   "execution_count": 6,
   "id": "9d801bb7",
   "metadata": {},
   "outputs": [
    {
     "data": {
      "text/plain": [
       "99"
      ]
     },
     "execution_count": 6,
     "metadata": {},
     "output_type": "execute_result"
    }
   ],
   "source": [
    "# O algorítmo não pode apenas memorizar, então é bom separar o treino do teste para não enviezar o programa\n",
    "len(dados)"
   ]
  },
  {
   "cell_type": "code",
   "execution_count": 7,
   "id": "9280c89b",
   "metadata": {},
   "outputs": [
    {
     "name": "stdout",
     "output_type": "stream",
     "text": [
      "Treinaremos com 75 elementos, testaremos com 24 elementos.\n"
     ]
    }
   ],
   "source": [
    "treino_x = x[:75]\n",
    "treino_y = y[:75]\n",
    "teste_x = x[75:]\n",
    "teste_y = y[75:]\n",
    "print(f'Treinaremos com {len(treino_x)} elementos, testaremos com {len(teste_x)} elementos.')"
   ]
  },
  {
   "cell_type": "code",
   "execution_count": 8,
   "id": "e86b7e59",
   "metadata": {},
   "outputs": [],
   "source": [
    "model = LinearSVC()\n",
    "model.fit(treino_x, treino_y)\n",
    "previsoes = model.predict(teste_x)"
   ]
  },
  {
   "cell_type": "code",
   "execution_count": 9,
   "id": "93375568",
   "metadata": {},
   "outputs": [
    {
     "name": "stdout",
     "output_type": "stream",
     "text": [
      "O percentual de acerto deste teste foi de 95.83 %.\n"
     ]
    }
   ],
   "source": [
    "acuracia = accuracy_score(teste_y, previsoes) * 100\n",
    "print(f'O percentual de acerto deste teste foi de {acuracia:.2f} %.')"
   ]
  },
  {
   "cell_type": "markdown",
   "id": "043c61e2",
   "metadata": {},
   "source": [
    "## Melhor forma de se separar os dados"
   ]
  },
  {
   "cell_type": "code",
   "execution_count": 10,
   "id": "86745434",
   "metadata": {},
   "outputs": [
    {
     "name": "stdout",
     "output_type": "stream",
     "text": [
      "Treinaremos com 74 elementos, testaremos com 25 elementos.\n"
     ]
    }
   ],
   "source": [
    "treino_x, teste_x, treino_y, teste_y = train_test_split(x, y, test_size = 0.25)\n",
    "print(f'Treinaremos com {len(treino_x)} elementos, testaremos com {len(teste_x)} elementos.')"
   ]
  },
  {
   "cell_type": "code",
   "execution_count": 11,
   "id": "e08cd599",
   "metadata": {},
   "outputs": [
    {
     "name": "stdout",
     "output_type": "stream",
     "text": [
      "O percentual de acerto deste teste foi de 96.00 %.\n"
     ]
    }
   ],
   "source": [
    "model = LinearSVC()\n",
    "model.fit(treino_x, treino_y)\n",
    "previsoes = model.predict(teste_x)\n",
    "acuracia = accuracy_score(teste_y, previsoes) * 100\n",
    "print(f'O percentual de acerto deste teste foi de {acuracia:.2f} %.')"
   ]
  },
  {
   "cell_type": "markdown",
   "id": "b1f4b5e8",
   "metadata": {},
   "source": [
    "### Tem algo estranho ai... Se executarmos de novo, o percentual muda."
   ]
  },
  {
   "cell_type": "code",
   "execution_count": 12,
   "id": "34281af2",
   "metadata": {},
   "outputs": [
    {
     "name": "stdout",
     "output_type": "stream",
     "text": [
      "Treinaremos com 74 elementos, testaremos com 25 elementos.\n"
     ]
    }
   ],
   "source": [
    "# Porque ele separa de forma aleatória!\n",
    "# Para que isso não aconteça...\n",
    "SEED = 20 # Utilizamos uma seed que padroniza a geração aleatória dos elementos, MUITO IMPORTANTE!!!\n",
    "treino_x, teste_x, treino_y, teste_y = train_test_split(x, y, test_size = 0.25, random_state = SEED)\n",
    "print(f'Treinaremos com {len(treino_x)} elementos, testaremos com {len(teste_x)} elementos.')"
   ]
  },
  {
   "cell_type": "code",
   "execution_count": 13,
   "id": "5ec12a8b",
   "metadata": {},
   "outputs": [
    {
     "name": "stdout",
     "output_type": "stream",
     "text": [
      "O percentual de acerto deste teste foi de 96.00 %.\n"
     ]
    }
   ],
   "source": [
    "model = LinearSVC()\n",
    "model.fit(treino_x, treino_y)\n",
    "previsoes = model.predict(teste_x)\n",
    "acuracia = accuracy_score(teste_y, previsoes) * 100\n",
    "print(f'O percentual de acerto deste teste foi de {acuracia:.2f} %.')"
   ]
  },
  {
   "cell_type": "code",
   "execution_count": 14,
   "id": "84a86f7a",
   "metadata": {},
   "outputs": [
    {
     "name": "stdout",
     "output_type": "stream",
     "text": [
      "0    19\n",
      "1     6\n",
      "Name: comprou, dtype: int64\n",
      "0    47\n",
      "1    27\n",
      "Name: comprou, dtype: int64\n"
     ]
    }
   ],
   "source": [
    "print(teste_y.value_counts()) \n",
    "print(treino_y.value_counts())"
   ]
  },
  {
   "cell_type": "markdown",
   "id": "780001a2",
   "metadata": {},
   "source": [
    "### Proporção diferente de compradores em relação ao total!!! Precisamos corrigir isso para não viciar o algorítmo. Corrigindo..."
   ]
  },
  {
   "cell_type": "code",
   "execution_count": 15,
   "id": "dbeba8b9",
   "metadata": {},
   "outputs": [
    {
     "name": "stdout",
     "output_type": "stream",
     "text": [
      "Treinaremos com 74 elementos, testaremos com 25 elementos.\n",
      "O percentual de acerto deste teste foi de 96.00 %.\n"
     ]
    }
   ],
   "source": [
    "SEED = 20\n",
    "treino_x, teste_x, treino_y, teste_y = train_test_split(x, y, test_size = 0.25, random_state = 20, stratify = y)\n",
    "print(f'Treinaremos com {len(treino_x)} elementos, testaremos com {len(teste_x)} elementos.')\n",
    "model = LinearSVC()\n",
    "model.fit(treino_x, treino_y)\n",
    "previsoes = model.predict(teste_x)\n",
    "acuracia = accuracy_score(teste_y, previsoes) * 100\n",
    "print(f'O percentual de acerto deste teste foi de {acuracia:.2f} %.')"
   ]
  },
  {
   "cell_type": "code",
   "execution_count": 16,
   "id": "3034999b",
   "metadata": {},
   "outputs": [
    {
     "name": "stdout",
     "output_type": "stream",
     "text": [
      "0    17\n",
      "1     8\n",
      "Name: comprou, dtype: int64\n",
      "0    49\n",
      "1    25\n",
      "Name: comprou, dtype: int64\n"
     ]
    }
   ],
   "source": [
    "print(teste_y.value_counts()) \n",
    "print(treino_y.value_counts())\n",
    "# Proporção muito próxima de 2/1 nos dois casos."
   ]
  },
  {
   "cell_type": "code",
   "execution_count": null,
   "id": "f5cfcf66",
   "metadata": {},
   "outputs": [],
   "source": []
  }
 ],
 "metadata": {
  "kernelspec": {
   "display_name": "Python 3 (ipykernel)",
   "language": "python",
   "name": "python3"
  },
  "language_info": {
   "codemirror_mode": {
    "name": "ipython",
    "version": 3
   },
   "file_extension": ".py",
   "mimetype": "text/x-python",
   "name": "python",
   "nbconvert_exporter": "python",
   "pygments_lexer": "ipython3",
   "version": "3.9.13"
  }
 },
 "nbformat": 4,
 "nbformat_minor": 5
}
